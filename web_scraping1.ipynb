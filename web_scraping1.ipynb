{
 "cells": [
  {
   "cell_type": "code",
   "execution_count": 1,
   "metadata": {},
   "outputs": [
    {
     "data": {
      "text/plain": [
       "'https://www.basketball-reference.com/leagues/NBA_2019_per_game.html'"
      ]
     },
     "execution_count": 1,
     "metadata": {},
     "output_type": "execute_result"
    }
   ],
   "source": [
    "# The Building Blocks\n",
    "year = '2019'\n",
    "str = 'https://www.basketball-reference.com/leagues/NBA_{}_per_game.html'\n",
    "\n",
    "# Combining the URL + year strings together\n",
    "url = str.format(year)\n",
    "url"
   ]
  },
  {
   "cell_type": "code",
   "execution_count": 3,
   "metadata": {},
   "outputs": [
    {
     "name": "stdout",
     "output_type": "stream",
     "text": [
      "https://www.basketball-reference.com/leagues/NBA_2015_per_game.html\n",
      "https://www.basketball-reference.com/leagues/NBA_2016_per_game.html\n",
      "https://www.basketball-reference.com/leagues/NBA_2017_per_game.html\n",
      "https://www.basketball-reference.com/leagues/NBA_2018_per_game.html\n",
      "https://www.basketball-reference.com/leagues/NBA_2019_per_game.html\n"
     ]
    }
   ],
   "source": [
    "years = [2015,2016,2017,2018,2019]\n",
    "str = 'https://www.basketball-reference.com/leagues/NBA_{}_per_game.html'\n",
    "\n",
    "for year in years:\n",
    "  url = str.format(year)\n",
    "  print(url)"
   ]
  },
  {
   "cell_type": "code",
   "execution_count": null,
   "metadata": {},
   "outputs": [],
   "source": [
    "import pandas as pd"
   ]
  },
  {
   "cell_type": "code",
   "execution_count": null,
   "metadata": {},
   "outputs": [],
   "source": [
    "df = pd.read_html(url, header=0)\n",
    "df"
   ]
  }
 ],
 "metadata": {
  "kernelspec": {
   "display_name": "Python 3",
   "language": "python",
   "name": "python3"
  },
  "language_info": {
   "codemirror_mode": {
    "name": "ipython",
    "version": 3
   },
   "file_extension": ".py",
   "mimetype": "text/x-python",
   "name": "python",
   "nbconvert_exporter": "python",
   "pygments_lexer": "ipython3",
   "version": "3.8.3"
  }
 },
 "nbformat": 4,
 "nbformat_minor": 4
}
